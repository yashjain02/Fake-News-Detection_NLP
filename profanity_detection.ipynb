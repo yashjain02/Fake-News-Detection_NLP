{
 "cells": [
  {
   "cell_type": "code",
   "execution_count": 43,
   "id": "1098521f",
   "metadata": {},
   "outputs": [],
   "source": [
    "import pandas as pd\n",
    "import nltk\n",
    "from sklearn.feature_extraction.text import CountVectorizer\n",
    "from sklearn.calibration import CalibratedClassifierCV\n",
    "from sklearn.svm import LinearSVC\n",
    "import joblib\n",
    "from nltk.stem import WordNetLemmatizer\n",
    "from nltk.corpus import stopwords"
   ]
  },
  {
   "cell_type": "code",
   "execution_count": 44,
   "id": "04e5e82d",
   "metadata": {},
   "outputs": [],
   "source": [
    "# read dataset\n",
    "df = pd.read_csv('data/clean_data.csv')\n"
   ]
  },
  {
   "cell_type": "code",
   "execution_count": 45,
   "id": "dbe95e5c",
   "metadata": {},
   "outputs": [],
   "source": [
    "texts = df['text'].astype(str)"
   ]
  },
  {
   "cell_type": "code",
   "execution_count": 46,
   "id": "dabc0f29",
   "metadata": {},
   "outputs": [],
   "source": [
    "# Vectorize the text\n",
    "vectorizer = CountVectorizer(stop_words='english')"
   ]
  },
  {
   "cell_type": "code",
   "execution_count": 47,
   "id": "ea5a871b",
   "metadata": {},
   "outputs": [],
   "source": [
    "#split dataset\n",
    "X = vectorizer.fit_transform(texts)\n",
    "y = df['is_offensive']"
   ]
  },
  {
   "cell_type": "code",
   "execution_count": 48,
   "id": "c8c99d9d",
   "metadata": {},
   "outputs": [],
   "source": [
    "# Train the model\n",
    "model = LinearSVC(random_state=0, tol=1e-5)"
   ]
  },
  {
   "cell_type": "code",
   "execution_count": 49,
   "id": "0d2ee6f6",
   "metadata": {},
   "outputs": [
    {
     "name": "stderr",
     "output_type": "stream",
     "text": [
      "E:\\Application\\Anaconda\\lib\\site-packages\\sklearn\\svm\\_base.py:1206: ConvergenceWarning: Liblinear failed to converge, increase the number of iterations.\n",
      "  warnings.warn(\n"
     ]
    },
    {
     "data": {
      "text/plain": [
       "LinearSVC(random_state=0, tol=1e-05)"
      ]
     },
     "execution_count": 49,
     "metadata": {},
     "output_type": "execute_result"
    }
   ],
   "source": [
    "#fit model\n",
    "model.fit(X, y)"
   ]
  },
  {
   "cell_type": "code",
   "execution_count": 50,
   "id": "3134a627",
   "metadata": {},
   "outputs": [
    {
     "data": {
      "text/plain": [
       "['models/model.joblib']"
      ]
     },
     "execution_count": 50,
     "metadata": {},
     "output_type": "execute_result"
    }
   ],
   "source": [
    "# Save the model\n",
    "joblib.dump(vectorizer, 'models/vectorizer.joblib',compress=0, protocol=None, cache_size=None)\n",
    "joblib.dump(model,'models/model.joblib',compress=0, protocol=None, cache_size=None)"
   ]
  },
  {
   "cell_type": "code",
   "execution_count": null,
   "id": "1fca33f4",
   "metadata": {},
   "outputs": [],
   "source": []
  }
 ],
 "metadata": {
  "kernelspec": {
   "display_name": "Python 3",
   "language": "python",
   "name": "python3"
  },
  "language_info": {
   "codemirror_mode": {
    "name": "ipython",
    "version": 3
   },
   "file_extension": ".py",
   "mimetype": "text/x-python",
   "name": "python",
   "nbconvert_exporter": "python",
   "pygments_lexer": "ipython3",
   "version": "3.8.8"
  }
 },
 "nbformat": 4,
 "nbformat_minor": 5
}
